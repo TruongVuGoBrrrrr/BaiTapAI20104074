{
  "nbformat": 4,
  "nbformat_minor": 0,
  "metadata": {
    "colab": {
      "provenance": [],
      "authorship_tag": "ABX9TyPlGUO/7iWPoZzv57WFbW31",
      "include_colab_link": true
    },
    "kernelspec": {
      "name": "python3",
      "display_name": "Python 3"
    },
    "language_info": {
      "name": "python"
    }
  },
  "cells": [
    {
      "cell_type": "markdown",
      "metadata": {
        "id": "view-in-github",
        "colab_type": "text"
      },
      "source": [
        "<a href=\"https://colab.research.google.com/github/TruongVuGoBrrrrr/BaiTapAI20104074/blob/BTVN-NhanDien/NhanDienGao.ipynb\" target=\"_parent\"><img src=\"https://colab.research.google.com/assets/colab-badge.svg\" alt=\"Open In Colab\"/></a>"
      ]
    },
    {
      "cell_type": "code",
      "execution_count": 1,
      "metadata": {
        "colab": {
          "base_uri": "https://localhost:8080/"
        },
        "id": "wWkMvBAJGzx9",
        "outputId": "4858a7d0-fc7f-416d-c67f-c2a53a34a713"
      },
      "outputs": [
        {
          "output_type": "stream",
          "name": "stdout",
          "text": [
            "Mounted at /content/drive/\n"
          ]
        }
      ],
      "source": [
        "from google.colab import drive\n",
        "drive.mount('/content/drive/')"
      ]
    },
    {
      "cell_type": "code",
      "source": [
        "train_image = '/content/drive/MyDrive/Data Train/Rice/Train'\n",
        "valid_image = '/content/drive/MyDrive/Data Train/Rice/Val'"
      ],
      "metadata": {
        "id": "R1l6z0VfHbLX"
      },
      "execution_count": 4,
      "outputs": []
    },
    {
      "cell_type": "code",
      "source": [
        "from tensorflow.keras.preprocessing.image import ImageDataGenerator\n",
        "train_datagen=ImageDataGenerator(rescale=1./255, shear_range=0.2, zoom_range=0.2, horizontal_flip=True)\n",
        "validation_datagen=ImageDataGenerator(rescale=1./255, shear_range=0.2, zoom_range=0.2, horizontal_flip=True)\n",
        "train_set = train_datagen.flow_from_directory(train_image,target_size=(200,200),class_mode='categorical')\n",
        "validation_set = validation_datagen.flow_from_directory(valid_image,target_size=(200,200),class_mode='categorical')"
      ],
      "metadata": {
        "colab": {
          "base_uri": "https://localhost:8080/"
        },
        "id": "RjQHxxy_HfU_",
        "outputId": "20db92b6-1e86-4c54-eac1-70c2c2191ddc"
      },
      "execution_count": 5,
      "outputs": [
        {
          "output_type": "stream",
          "name": "stdout",
          "text": [
            "Found 500 images belonging to 5 classes.\n",
            "Found 100 images belonging to 5 classes.\n"
          ]
        }
      ]
    },
    {
      "cell_type": "code",
      "source": [
        "x_train,y_train=next(train_set)\n",
        "x_train.shape"
      ],
      "metadata": {
        "colab": {
          "base_uri": "https://localhost:8080/"
        },
        "id": "Qv7ab-aaHlqH",
        "outputId": "d71c816c-8351-40ab-c038-83fc60ba8ca1"
      },
      "execution_count": 6,
      "outputs": [
        {
          "output_type": "execute_result",
          "data": {
            "text/plain": [
              "(32, 200, 200, 3)"
            ]
          },
          "metadata": {},
          "execution_count": 6
        }
      ]
    },
    {
      "cell_type": "code",
      "source": [
        "y_train.shape"
      ],
      "metadata": {
        "colab": {
          "base_uri": "https://localhost:8080/"
        },
        "id": "4kaGkVmze8ns",
        "outputId": "fff72a9d-0f7d-4549-e2d1-20d5d947df1e"
      },
      "execution_count": 7,
      "outputs": [
        {
          "output_type": "execute_result",
          "data": {
            "text/plain": [
              "(32, 5)"
            ]
          },
          "metadata": {},
          "execution_count": 7
        }
      ]
    },
    {
      "cell_type": "code",
      "source": [
        "label=['Arborio','Basmati','Ipsala','Jasmine','Karacadag']"
      ],
      "metadata": {
        "id": "c-hBEHL6fB84"
      },
      "execution_count": 8,
      "outputs": []
    },
    {
      "cell_type": "code",
      "source": [
        "from keras.models import Sequential, Model \n",
        "from keras.layers import Dense, Flatten, Dropout\n",
        "from keras.layers import Conv2D, MaxPooling2D\n",
        "from keras.callbacks import EarlyStopping, ModelCheckpoint\n",
        "from keras import models\n",
        "from keras.layers import Conv2D, MaxPooling2D"
      ],
      "metadata": {
        "id": "Gr4xDz-fHrmw"
      },
      "execution_count": 9,
      "outputs": []
    },
    {
      "cell_type": "code",
      "source": [
        "mod = models.Sequential()\n",
        "mod.add(Conv2D(32,kernel_size=(3,3),activation='relu',input_shape=(200,200,3),padding='same'))"
      ],
      "metadata": {
        "id": "emXEKSV5Huic"
      },
      "execution_count": 10,
      "outputs": []
    },
    {
      "cell_type": "code",
      "source": [
        "mod.add(MaxPooling2D((2,2),padding='same'))\n",
        "mod.add(Conv2D(64,kernel_size=(3,3),activation='relu',padding='same'))\n",
        "mod.add(MaxPooling2D((2,2),padding='same'))\n",
        "mod.add(Conv2D(128,kernel_size=(3,3),activation='relu',padding='same'))\n",
        "mod.add(MaxPooling2D((2,2),padding='same'))\n",
        "mod.add(Flatten())\n",
        "mod.add(Dense(128,activation='relu'))\n",
        "mod.add(Dense(5,activation='softmax'))"
      ],
      "metadata": {
        "id": "H0P7PaQQHxMJ"
      },
      "execution_count": 11,
      "outputs": []
    },
    {
      "cell_type": "code",
      "source": [
        "mod.compile(loss='categorical_crossentropy',metrics=['accuracy'],optimizer='adam')\n",
        "history=mod.fit(train_set,epochs=20,batch_size=128,verbose=1, validation_data=validation_set, callbacks=[EarlyStopping(monitor='val_loss', patience=20)])"
      ],
      "metadata": {
        "colab": {
          "base_uri": "https://localhost:8080/"
        },
        "id": "tLS0vcoQfXMO",
        "outputId": "a2161f22-6ea1-4d78-858a-108f886f4d0c"
      },
      "execution_count": 12,
      "outputs": [
        {
          "output_type": "stream",
          "name": "stdout",
          "text": [
            "Epoch 1/20\n",
            "16/16 [==============================] - 194s 12s/step - loss: 1.2262 - accuracy: 0.4840 - val_loss: 0.5800 - val_accuracy: 0.8000\n",
            "Epoch 2/20\n",
            "16/16 [==============================] - 47s 3s/step - loss: 0.5438 - accuracy: 0.7640 - val_loss: 0.5022 - val_accuracy: 0.7600\n",
            "Epoch 3/20\n",
            "16/16 [==============================] - 47s 3s/step - loss: 0.4021 - accuracy: 0.8280 - val_loss: 0.5200 - val_accuracy: 0.7800\n",
            "Epoch 4/20\n",
            "16/16 [==============================] - 45s 3s/step - loss: 0.3865 - accuracy: 0.8300 - val_loss: 0.3288 - val_accuracy: 0.8900\n",
            "Epoch 5/20\n",
            "16/16 [==============================] - 43s 3s/step - loss: 0.3577 - accuracy: 0.8680 - val_loss: 0.3604 - val_accuracy: 0.8700\n",
            "Epoch 6/20\n",
            "16/16 [==============================] - 47s 3s/step - loss: 0.3812 - accuracy: 0.8480 - val_loss: 0.3582 - val_accuracy: 0.8600\n",
            "Epoch 7/20\n",
            "16/16 [==============================] - 45s 3s/step - loss: 0.3717 - accuracy: 0.8640 - val_loss: 0.2452 - val_accuracy: 0.9000\n",
            "Epoch 8/20\n",
            "16/16 [==============================] - 43s 3s/step - loss: 0.3254 - accuracy: 0.8680 - val_loss: 0.2918 - val_accuracy: 0.8700\n",
            "Epoch 9/20\n",
            "16/16 [==============================] - 46s 3s/step - loss: 0.3316 - accuracy: 0.8640 - val_loss: 0.2705 - val_accuracy: 0.9200\n",
            "Epoch 10/20\n",
            "16/16 [==============================] - 45s 3s/step - loss: 0.3120 - accuracy: 0.8560 - val_loss: 0.2979 - val_accuracy: 0.8800\n",
            "Epoch 11/20\n",
            "16/16 [==============================] - 47s 3s/step - loss: 0.3140 - accuracy: 0.8700 - val_loss: 0.3544 - val_accuracy: 0.8500\n",
            "Epoch 12/20\n",
            "16/16 [==============================] - 46s 3s/step - loss: 0.3452 - accuracy: 0.8780 - val_loss: 0.3385 - val_accuracy: 0.8500\n",
            "Epoch 13/20\n",
            "16/16 [==============================] - 45s 3s/step - loss: 0.3478 - accuracy: 0.8520 - val_loss: 0.3754 - val_accuracy: 0.8300\n",
            "Epoch 14/20\n",
            "16/16 [==============================] - 45s 3s/step - loss: 0.2764 - accuracy: 0.8920 - val_loss: 0.2654 - val_accuracy: 0.8800\n",
            "Epoch 15/20\n",
            "16/16 [==============================] - 45s 3s/step - loss: 0.2868 - accuracy: 0.8840 - val_loss: 0.2711 - val_accuracy: 0.8900\n",
            "Epoch 16/20\n",
            "16/16 [==============================] - 45s 3s/step - loss: 0.3361 - accuracy: 0.8660 - val_loss: 0.3456 - val_accuracy: 0.8400\n",
            "Epoch 17/20\n",
            "16/16 [==============================] - 45s 3s/step - loss: 0.3009 - accuracy: 0.8660 - val_loss: 0.2338 - val_accuracy: 0.9000\n",
            "Epoch 18/20\n",
            "16/16 [==============================] - 48s 3s/step - loss: 0.2638 - accuracy: 0.8900 - val_loss: 0.4295 - val_accuracy: 0.7900\n",
            "Epoch 19/20\n",
            "16/16 [==============================] - 45s 3s/step - loss: 0.2655 - accuracy: 0.8860 - val_loss: 0.2358 - val_accuracy: 0.9100\n",
            "Epoch 20/20\n",
            "16/16 [==============================] - 48s 3s/step - loss: 0.2472 - accuracy: 0.9020 - val_loss: 0.2926 - val_accuracy: 0.8800\n"
          ]
        }
      ]
    },
    {
      "cell_type": "code",
      "source": [
        "mod.save('NhanDienGao.h5')"
      ],
      "metadata": {
        "id": "8I-XF18HfZ2q"
      },
      "execution_count": 13,
      "outputs": []
    },
    {
      "cell_type": "code",
      "source": [
        "from keras.utils import load_img\n",
        "from keras.utils import img_to_array,load_img\n",
        "import numpy as np\n",
        "from keras.models import load_model\n",
        "from matplotlib import pyplot as plt"
      ],
      "metadata": {
        "id": "8YsKgKUif-cW"
      },
      "execution_count": 14,
      "outputs": []
    },
    {
      "cell_type": "code",
      "source": [
        "url='/content/Jasmine (1010).jpg'\n",
        "img=load_img(url,target_size=(200,200))\n",
        "plt.imshow(img)\n",
        "img=img_to_array(img)\n",
        "img=img.astype('float32')\n",
        "img=img.reshape(1,200,200,3)\n",
        "img=img/255\n",
        "print(mod.predict(img))\n",
        "a= int(np.argmax(mod.predict(img),axis=1))\n",
        "print(\"Đây là:\",label[a])"
      ],
      "metadata": {
        "colab": {
          "base_uri": "https://localhost:8080/",
          "height": 338
        },
        "id": "lQIstWrIgB9B",
        "outputId": "3004ea68-0e9a-467b-9103-96ccf2560081"
      },
      "execution_count": 18,
      "outputs": [
        {
          "output_type": "stream",
          "name": "stdout",
          "text": [
            "1/1 [==============================] - 0s 72ms/step\n",
            "[[5.5193465e-04 1.4205623e-01 2.4884488e-05 8.5736662e-01 3.3695048e-07]]\n",
            "1/1 [==============================] - 0s 64ms/step\n",
            "Đây là: Jasmine\n"
          ]
        },
        {
          "output_type": "display_data",
          "data": {
            "text/plain": [
              "<Figure size 432x288 with 1 Axes>"
            ],
            "image/png": "[encoded data removed]"
          },
          "metadata": {
            "needs_background": "light"
          }
        }
      ]
    },
    {
      "cell_type": "code",
      "source": [
        "url='/content/Ipsala (746).jpg'\n",
        "img=load_img(url,target_size=(200,200))\n",
        "plt.imshow(img)\n",
        "img=img_to_array(img)\n",
        "img=img.astype('float32')\n",
        "img=img.reshape(1,200,200,3)\n",
        "img=img/255\n",
        "print(mod.predict(img))\n",
        "a= int(np.argmax(mod.predict(img),axis=1))\n",
        "print(\"Đây là:\",label[a])"
      ],
      "metadata": {
        "colab": {
          "base_uri": "https://localhost:8080/",
          "height": 338
        },
        "id": "sh9QVHFnkNjy",
        "outputId": "049455df-9add-4cd4-afd4-31db27e9eb41"
      },
      "execution_count": 16,
      "outputs": [
        {
          "output_type": "stream",
          "name": "stdout",
          "text": [
            "1/1 [==============================] - 0s 43ms/step\n",
            "[[5.4725859e-04 1.2814745e-08 9.9944609e-01 3.1126067e-08 6.6958196e-06]]\n",
            "1/1 [==============================] - 0s 41ms/step\n",
            "Đây là: Ipsala\n"
          ]
        },
        {
          "output_type": "display_data",
          "data": {
            "text/plain": [
              "<Figure size 432x288 with 1 Axes>"
            ],
            "image/png": "[encoded data removed]"
          },
          "metadata": {
            "needs_background": "light"
          }
        }
      ]
    },
    {
      "cell_type": "code",
      "source": [
        "url='/content/Karacadag (172).jpg'\n",
        "img=load_img(url,target_size=(200,200))\n",
        "plt.imshow(img)\n",
        "img=img_to_array(img)\n",
        "img=img.astype('float32')\n",
        "img=img.reshape(1,200,200,3)\n",
        "img=img/255\n",
        "print(mod.predict(img))\n",
        "a= int(np.argmax(mod.predict(img),axis=1))\n",
        "print(\"Đây là:\",label[a])"
      ],
      "metadata": {
        "colab": {
          "base_uri": "https://localhost:8080/",
          "height": 338
        },
        "id": "OXpU3jlzkPEj",
        "outputId": "396d2fb0-2248-4541-c9be-47437518cb8b"
      },
      "execution_count": 17,
      "outputs": [
        {
          "output_type": "stream",
          "name": "stdout",
          "text": [
            "1/1 [==============================] - 0s 41ms/step\n",
            "[[8.2769930e-02 1.7305850e-07 1.4953618e-03 5.7617006e-05 9.1567695e-01]]\n",
            "1/1 [==============================] - 0s 40ms/step\n",
            "Đây là: Karacadag\n"
          ]
        },
        {
          "output_type": "display_data",
          "data": {
            "text/plain": [
              "<Figure size 432x288 with 1 Axes>"
            ],
            "image/png": "[encoded data removed]"
          },
          "metadata": {
            "needs_background": "light"
          }
        }
      ]
    }
  ]
}